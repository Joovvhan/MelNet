{
 "cells": [
  {
   "cell_type": "code",
   "execution_count": 7,
   "metadata": {},
   "outputs": [],
   "source": [
    "import torch.nn as nn\n",
    "from torch.autograd import Variable"
   ]
  },
  {
   "cell_type": "code",
   "execution_count": 17,
   "metadata": {},
   "outputs": [
    {
     "name": "stdout",
     "output_type": "stream",
     "text": [
      "torch.Size([10, 10, 10])\n",
      "torch.Size([10, 10, 10])\n"
     ]
    }
   ],
   "source": [
    "a = torch.zeros([10, 10 ,10])\n",
    "print(a.shape)\n",
    "b = torch.zeros(a.shape)\n",
    "print(b.shape)"
   ]
  },
  {
   "cell_type": "code",
   "execution_count": 37,
   "metadata": {},
   "outputs": [],
   "source": [
    "class DelayedRNN(nn.Module):\n",
    "    \n",
    "    def __init__(self, num_hidden):\n",
    "        super(DelayedRNN, self).__init__()\n",
    "\n",
    "        self.t_delay_RNN_x = nn.GRU(input_size=num_hidden, hidden_size=num_hidden, batch_first=True)\n",
    "        self.t_delay_RNN_y = nn.GRU(input_size=num_hidden, hidden_size=num_hidden, batch_first=True)\n",
    "        self.t_delay_RNN_z = nn.GRU(input_size=num_hidden, hidden_size=num_hidden, batch_first=True)\n",
    "\n",
    "        self.W_t = nn.Linear(3 * num_hidden, num_hidden)\n",
    "\n",
    "        self.c_RNN = nn.GRU(input_size=num_hidden, hidden_size=num_hidden, batch_first=True)\n",
    "\n",
    "        self.W_c = nn.Linear(num_hidden, num_hidden)\n",
    "\n",
    "        self.f_delay_RNN = nn.GRU(input_size=num_hidden, hidden_size=num_hidden, batch_first=True)\n",
    "\n",
    "        self.W_f = nn.Linear(num_hidden, num_hidden)\n",
    "\n",
    "    def forward(self, input_h_t, input_h_f, input_h_c):\n",
    "\n",
    "        h_t_x = Variable(torch.zeros(input_h_t.shape))\n",
    "        h_t_y = Variable(torch.zeros(input_h_t.shape))\n",
    "        h_t_z = Variable(torch.zeros(input_h_t.shape))\n",
    "\n",
    "        for i in range(intput_h_t.shape[2]):\n",
    "            h_t_x_slice, _ = self.t_delay_RNN_x(intput_h_t[:, :, i, :])\n",
    "            h_t_x[:, :, i, :] = h_t_x_slice\n",
    "\n",
    "        reverse_index = np.arange(h_t_0.shape[2] - 1, -1, -1)\n",
    "        for i in range(h_t_0.shape[1]):\n",
    "            h_t_y_slice, _ = self.t_delay_RNN_y(input_h_t[:, i, :, :])\n",
    "            h_t_z_slice, _ = self.t_delay_RNN_z(input_h_t[:, i, reverse_index, :])\n",
    "            h_t_x[:, i, :, :] = h_t_x_slice\n",
    "            h_t_z[:, i, :, :] = h_t_z_slice[:, reverse_index, :]\n",
    "\n",
    "        h_t_concat = torch.cat([h_t_x, h_t_y, h_t_z], 3)\n",
    "\n",
    "        h_t_w = self.W_t(h_t_1_)\n",
    "\n",
    "        output_h_t = torch.add(input_h_t, h_t_w)\n",
    "\n",
    "        h_c_rnn, _ = self.c_RNN(input_h_c)\n",
    "        h_c_w = self.W_c(h_c_rnn)\n",
    "        output_h_c = torch.add(input_h_c, h_c_w)\n",
    "\n",
    "        h_c_expand = output_h_c.view(output_h_c.shape[0], output_h_c.shape[1], 1, output_h_c.shape[2]).repeat(1, 1, 32, 1)\n",
    "        h_f_sum = torch.add(torch.add(intput_h_f, output_h_t), h_c_expand)\n",
    "\n",
    "        h_f_ = Variable(torch.zeros(input_h_f.shape))\n",
    "\n",
    "        for i in range(h_f_1_sum.shape[1]):\n",
    "            h_f_slice, _ = f_delay_RNN(h_f_sum[:, i, :, :])\n",
    "            h_f_[:, i, :, :] = h_f_slice\n",
    "\n",
    "        h_f_w = self.W_f(h_f_)\n",
    "\n",
    "        output_h_f = torch.add(input_h_f, h_f_w)\n",
    "\n",
    "        return output_h_t, output_h_f, output_h_c"
   ]
  },
  {
   "cell_type": "code",
   "execution_count": 38,
   "metadata": {},
   "outputs": [],
   "source": [
    "class MelNet(nn.Module):\n",
    "\n",
    "    def __init__(self, num_hidden, num_layer):\n",
    "        super(MelNet, self).__init__()\n",
    "        \n",
    "        self.W_t_0 = nn.Linear(1, num_hidden)\n",
    "        self.W_f_0 = nn.Linear(1, num_hidden)\n",
    "        self.W_c_0 = nn.Linear(32, num_hidden)\n",
    "        \n",
    "        self.module_list = nn.ModuleList([DelayedRNN(512) for i in range(num_layer)])\n",
    "\n",
    "    def forward(self, input_tensor):\n",
    "        \n",
    "        h_t = self.W_t_0(input_tensor)\n",
    "        h_f = self.W_f_0(input_tensor)\n",
    "        h_c = self.W_c_0(input_tensor[:, :, :, 0])\n",
    "        \n",
    "        for layer in self.module_list:\n",
    "            h_t, h_f, h_c = layer(h_t, h_f, h_c)\n",
    "        \n",
    "        return h_t, h_f, h_c\n"
   ]
  },
  {
   "cell_type": "code",
   "execution_count": 39,
   "metadata": {},
   "outputs": [],
   "source": [
    "net = MelNet(512, 3)"
   ]
  },
  {
   "cell_type": "code",
   "execution_count": 40,
   "metadata": {},
   "outputs": [
    {
     "data": {
      "text/plain": [
       "<bound method Module.modules of MelNet(\n",
       "  (W_t_0): Linear(in_features=1, out_features=512, bias=True)\n",
       "  (W_f_0): Linear(in_features=1, out_features=512, bias=True)\n",
       "  (W_c_0): Linear(in_features=32, out_features=512, bias=True)\n",
       "  (module_list): ModuleList(\n",
       "    (0): DelayedRNN(\n",
       "      (t_delay_RNN_x): GRU(512, 512, batch_first=True)\n",
       "      (t_delay_RNN_y): GRU(512, 512, batch_first=True)\n",
       "      (t_delay_RNN_z): GRU(512, 512, batch_first=True)\n",
       "      (W_t): Linear(in_features=1536, out_features=512, bias=True)\n",
       "      (c_RNN): GRU(512, 512, batch_first=True)\n",
       "      (W_c): Linear(in_features=512, out_features=512, bias=True)\n",
       "      (f_delay_RNN): GRU(512, 512, batch_first=True)\n",
       "      (W_f): Linear(in_features=512, out_features=512, bias=True)\n",
       "    )\n",
       "    (1): DelayedRNN(\n",
       "      (t_delay_RNN_x): GRU(512, 512, batch_first=True)\n",
       "      (t_delay_RNN_y): GRU(512, 512, batch_first=True)\n",
       "      (t_delay_RNN_z): GRU(512, 512, batch_first=True)\n",
       "      (W_t): Linear(in_features=1536, out_features=512, bias=True)\n",
       "      (c_RNN): GRU(512, 512, batch_first=True)\n",
       "      (W_c): Linear(in_features=512, out_features=512, bias=True)\n",
       "      (f_delay_RNN): GRU(512, 512, batch_first=True)\n",
       "      (W_f): Linear(in_features=512, out_features=512, bias=True)\n",
       "    )\n",
       "    (2): DelayedRNN(\n",
       "      (t_delay_RNN_x): GRU(512, 512, batch_first=True)\n",
       "      (t_delay_RNN_y): GRU(512, 512, batch_first=True)\n",
       "      (t_delay_RNN_z): GRU(512, 512, batch_first=True)\n",
       "      (W_t): Linear(in_features=1536, out_features=512, bias=True)\n",
       "      (c_RNN): GRU(512, 512, batch_first=True)\n",
       "      (W_c): Linear(in_features=512, out_features=512, bias=True)\n",
       "      (f_delay_RNN): GRU(512, 512, batch_first=True)\n",
       "      (W_f): Linear(in_features=512, out_features=512, bias=True)\n",
       "    )\n",
       "  )\n",
       ")>"
      ]
     },
     "execution_count": 40,
     "metadata": {},
     "output_type": "execute_result"
    }
   ],
   "source": [
    "net.modules"
   ]
  },
  {
   "cell_type": "code",
   "execution_count": 41,
   "metadata": {},
   "outputs": [
    {
     "data": {
      "text/plain": [
       "<bound method Module.parameters of MelNet(\n",
       "  (W_t_0): Linear(in_features=1, out_features=512, bias=True)\n",
       "  (W_f_0): Linear(in_features=1, out_features=512, bias=True)\n",
       "  (W_c_0): Linear(in_features=32, out_features=512, bias=True)\n",
       "  (module_list): ModuleList(\n",
       "    (0): DelayedRNN(\n",
       "      (t_delay_RNN_x): GRU(512, 512, batch_first=True)\n",
       "      (t_delay_RNN_y): GRU(512, 512, batch_first=True)\n",
       "      (t_delay_RNN_z): GRU(512, 512, batch_first=True)\n",
       "      (W_t): Linear(in_features=1536, out_features=512, bias=True)\n",
       "      (c_RNN): GRU(512, 512, batch_first=True)\n",
       "      (W_c): Linear(in_features=512, out_features=512, bias=True)\n",
       "      (f_delay_RNN): GRU(512, 512, batch_first=True)\n",
       "      (W_f): Linear(in_features=512, out_features=512, bias=True)\n",
       "    )\n",
       "    (1): DelayedRNN(\n",
       "      (t_delay_RNN_x): GRU(512, 512, batch_first=True)\n",
       "      (t_delay_RNN_y): GRU(512, 512, batch_first=True)\n",
       "      (t_delay_RNN_z): GRU(512, 512, batch_first=True)\n",
       "      (W_t): Linear(in_features=1536, out_features=512, bias=True)\n",
       "      (c_RNN): GRU(512, 512, batch_first=True)\n",
       "      (W_c): Linear(in_features=512, out_features=512, bias=True)\n",
       "      (f_delay_RNN): GRU(512, 512, batch_first=True)\n",
       "      (W_f): Linear(in_features=512, out_features=512, bias=True)\n",
       "    )\n",
       "    (2): DelayedRNN(\n",
       "      (t_delay_RNN_x): GRU(512, 512, batch_first=True)\n",
       "      (t_delay_RNN_y): GRU(512, 512, batch_first=True)\n",
       "      (t_delay_RNN_z): GRU(512, 512, batch_first=True)\n",
       "      (W_t): Linear(in_features=1536, out_features=512, bias=True)\n",
       "      (c_RNN): GRU(512, 512, batch_first=True)\n",
       "      (W_c): Linear(in_features=512, out_features=512, bias=True)\n",
       "      (f_delay_RNN): GRU(512, 512, batch_first=True)\n",
       "      (W_f): Linear(in_features=512, out_features=512, bias=True)\n",
       "    )\n",
       "  )\n",
       ")>"
      ]
     },
     "execution_count": 41,
     "metadata": {},
     "output_type": "execute_result"
    }
   ],
   "source": [
    "net.parameters"
   ]
  },
  {
   "cell_type": "code",
   "execution_count": 42,
   "metadata": {},
   "outputs": [],
   "source": [
    "import librosa\n",
    "import scipy\n",
    "import numpy as np\n",
    "import os\n",
    "import glob\n",
    "import matplotlib.pyplot as plt\n",
    "import IPython.display as ipd"
   ]
  },
  {
   "cell_type": "code",
   "execution_count": 43,
   "metadata": {},
   "outputs": [],
   "source": [
    "nsc = 6 * 256\n",
    "hop = 256\n",
    "nov = nsc - hop\n",
    "n_mels = 256\n",
    "fs = 44100/2\n",
    "num_hidden = 512\n",
    "K = 10\n",
    "\n",
    "mel_filters = librosa.filters.mel(sr=fs, n_fft=nsc, n_mels=n_mels)"
   ]
  },
  {
   "cell_type": "code",
   "execution_count": 44,
   "metadata": {},
   "outputs": [],
   "source": [
    "data_dir = '../data'\n",
    "file_list = glob.glob(data_dir + '/*')\n",
    "y, fs = librosa.core.load(file_list[0])\n",
    "\n",
    "f, t, Sxx = scipy.signal.stft(y, fs=fs, window='hann', nperseg=nsc, noverlap=nov)\n",
    "# Sxx = Sxx[1:, :]\n",
    "Zxx = np.abs(Sxx)\n",
    "log_spectrogram = 20 * np.log10(np.maximum(Zxx, 1e-8))\n",
    "log_spectrogram_norm = (log_spectrogram + 160) / 160\n",
    "\n",
    "mel_spectrogram = np.matmul(mel_filters, Zxx)\n",
    "log_mel_spectrogram = 20 * np.log10(np.maximum(mel_spectrogram, 1e-8))\n",
    "mel_input = (log_mel_spectrogram + 160) / 160\n",
    "\n",
    "Tier6 = mel_input[::2, :]\n",
    "Tier6_not = mel_input[1::2, :]\n",
    "\n",
    "Tier5 = Tier6_not[:, ::2]\n",
    "Tier5_not = Tier6_not[:, 1::2]\n",
    "\n",
    "Tier4 = Tier5_not[::2, :]\n",
    "Tier4_not = Tier5_not[1::2, :]\n",
    "\n",
    "Tier3 = Tier4_not[:, ::2]\n",
    "Tier3_not = Tier4_not[:, 1::2]\n",
    "\n",
    "Tier2 = Tier3_not[::2, :]\n",
    "Tier1 = Tier3_not[1::2, :]\n",
    "\n",
    "Tiers = [Tier1, Tier2, Tier3, Tier4, Tier5, Tier6]"
   ]
  },
  {
   "cell_type": "code",
   "execution_count": 45,
   "metadata": {},
   "outputs": [],
   "source": [
    "tensor = torch.tensor(Tier1.T)\n",
    "input_tensor = tensor.view([1, tensor.shape[0], tensor.shape[1], 1])"
   ]
  },
  {
   "cell_type": "code",
   "execution_count": 46,
   "metadata": {},
   "outputs": [
    {
     "ename": "NameError",
     "evalue": "name 'h_t_0' is not defined",
     "output_type": "error",
     "traceback": [
      "\u001b[1;31m---------------------------------------------------------------------------\u001b[0m",
      "\u001b[1;31mNameError\u001b[0m                                 Traceback (most recent call last)",
      "\u001b[1;32m<ipython-input-46-d7dc0ec79313>\u001b[0m in \u001b[0;36m<module>\u001b[1;34m\u001b[0m\n\u001b[1;32m----> 1\u001b[1;33m \u001b[0mnet\u001b[0m\u001b[1;33m(\u001b[0m\u001b[0minput_tensor\u001b[0m\u001b[1;33m)\u001b[0m\u001b[1;33m\u001b[0m\u001b[1;33m\u001b[0m\u001b[0m\n\u001b[0m",
      "\u001b[1;32m~\\AppData\\Local\\Continuum\\anaconda3\\envs\\pytorch_env\\lib\\site-packages\\torch\\nn\\modules\\module.py\u001b[0m in \u001b[0;36m__call__\u001b[1;34m(self, *input, **kwargs)\u001b[0m\n\u001b[0;32m    545\u001b[0m             \u001b[0mresult\u001b[0m \u001b[1;33m=\u001b[0m \u001b[0mself\u001b[0m\u001b[1;33m.\u001b[0m\u001b[0m_slow_forward\u001b[0m\u001b[1;33m(\u001b[0m\u001b[1;33m*\u001b[0m\u001b[0minput\u001b[0m\u001b[1;33m,\u001b[0m \u001b[1;33m**\u001b[0m\u001b[0mkwargs\u001b[0m\u001b[1;33m)\u001b[0m\u001b[1;33m\u001b[0m\u001b[1;33m\u001b[0m\u001b[0m\n\u001b[0;32m    546\u001b[0m         \u001b[1;32melse\u001b[0m\u001b[1;33m:\u001b[0m\u001b[1;33m\u001b[0m\u001b[1;33m\u001b[0m\u001b[0m\n\u001b[1;32m--> 547\u001b[1;33m             \u001b[0mresult\u001b[0m \u001b[1;33m=\u001b[0m \u001b[0mself\u001b[0m\u001b[1;33m.\u001b[0m\u001b[0mforward\u001b[0m\u001b[1;33m(\u001b[0m\u001b[1;33m*\u001b[0m\u001b[0minput\u001b[0m\u001b[1;33m,\u001b[0m \u001b[1;33m**\u001b[0m\u001b[0mkwargs\u001b[0m\u001b[1;33m)\u001b[0m\u001b[1;33m\u001b[0m\u001b[1;33m\u001b[0m\u001b[0m\n\u001b[0m\u001b[0;32m    548\u001b[0m         \u001b[1;32mfor\u001b[0m \u001b[0mhook\u001b[0m \u001b[1;32min\u001b[0m \u001b[0mself\u001b[0m\u001b[1;33m.\u001b[0m\u001b[0m_forward_hooks\u001b[0m\u001b[1;33m.\u001b[0m\u001b[0mvalues\u001b[0m\u001b[1;33m(\u001b[0m\u001b[1;33m)\u001b[0m\u001b[1;33m:\u001b[0m\u001b[1;33m\u001b[0m\u001b[1;33m\u001b[0m\u001b[0m\n\u001b[0;32m    549\u001b[0m             \u001b[0mhook_result\u001b[0m \u001b[1;33m=\u001b[0m \u001b[0mhook\u001b[0m\u001b[1;33m(\u001b[0m\u001b[0mself\u001b[0m\u001b[1;33m,\u001b[0m \u001b[0minput\u001b[0m\u001b[1;33m,\u001b[0m \u001b[0mresult\u001b[0m\u001b[1;33m)\u001b[0m\u001b[1;33m\u001b[0m\u001b[1;33m\u001b[0m\u001b[0m\n",
      "\u001b[1;32m<ipython-input-38-b53df79db117>\u001b[0m in \u001b[0;36mforward\u001b[1;34m(self, input_tensor)\u001b[0m\n\u001b[0;32m     17\u001b[0m \u001b[1;33m\u001b[0m\u001b[0m\n\u001b[0;32m     18\u001b[0m         \u001b[1;32mfor\u001b[0m \u001b[0mlayer\u001b[0m \u001b[1;32min\u001b[0m \u001b[0mself\u001b[0m\u001b[1;33m.\u001b[0m\u001b[0mmodule_list\u001b[0m\u001b[1;33m:\u001b[0m\u001b[1;33m\u001b[0m\u001b[1;33m\u001b[0m\u001b[0m\n\u001b[1;32m---> 19\u001b[1;33m             \u001b[0mh_t\u001b[0m\u001b[1;33m,\u001b[0m \u001b[0mh_f\u001b[0m\u001b[1;33m,\u001b[0m \u001b[0mh_c\u001b[0m \u001b[1;33m=\u001b[0m \u001b[0mlayer\u001b[0m\u001b[1;33m(\u001b[0m\u001b[0mh_t\u001b[0m\u001b[1;33m,\u001b[0m \u001b[0mh_f\u001b[0m\u001b[1;33m,\u001b[0m \u001b[0mh_c\u001b[0m\u001b[1;33m)\u001b[0m\u001b[1;33m\u001b[0m\u001b[1;33m\u001b[0m\u001b[0m\n\u001b[0m\u001b[0;32m     20\u001b[0m \u001b[1;33m\u001b[0m\u001b[0m\n\u001b[0;32m     21\u001b[0m         \u001b[1;32mreturn\u001b[0m \u001b[0mh_t\u001b[0m\u001b[1;33m,\u001b[0m \u001b[0mh_f\u001b[0m\u001b[1;33m,\u001b[0m \u001b[0mh_c\u001b[0m\u001b[1;33m\u001b[0m\u001b[1;33m\u001b[0m\u001b[0m\n",
      "\u001b[1;32m~\\AppData\\Local\\Continuum\\anaconda3\\envs\\pytorch_env\\lib\\site-packages\\torch\\nn\\modules\\module.py\u001b[0m in \u001b[0;36m__call__\u001b[1;34m(self, *input, **kwargs)\u001b[0m\n\u001b[0;32m    545\u001b[0m             \u001b[0mresult\u001b[0m \u001b[1;33m=\u001b[0m \u001b[0mself\u001b[0m\u001b[1;33m.\u001b[0m\u001b[0m_slow_forward\u001b[0m\u001b[1;33m(\u001b[0m\u001b[1;33m*\u001b[0m\u001b[0minput\u001b[0m\u001b[1;33m,\u001b[0m \u001b[1;33m**\u001b[0m\u001b[0mkwargs\u001b[0m\u001b[1;33m)\u001b[0m\u001b[1;33m\u001b[0m\u001b[1;33m\u001b[0m\u001b[0m\n\u001b[0;32m    546\u001b[0m         \u001b[1;32melse\u001b[0m\u001b[1;33m:\u001b[0m\u001b[1;33m\u001b[0m\u001b[1;33m\u001b[0m\u001b[0m\n\u001b[1;32m--> 547\u001b[1;33m             \u001b[0mresult\u001b[0m \u001b[1;33m=\u001b[0m \u001b[0mself\u001b[0m\u001b[1;33m.\u001b[0m\u001b[0mforward\u001b[0m\u001b[1;33m(\u001b[0m\u001b[1;33m*\u001b[0m\u001b[0minput\u001b[0m\u001b[1;33m,\u001b[0m \u001b[1;33m**\u001b[0m\u001b[0mkwargs\u001b[0m\u001b[1;33m)\u001b[0m\u001b[1;33m\u001b[0m\u001b[1;33m\u001b[0m\u001b[0m\n\u001b[0m\u001b[0;32m    548\u001b[0m         \u001b[1;32mfor\u001b[0m \u001b[0mhook\u001b[0m \u001b[1;32min\u001b[0m \u001b[0mself\u001b[0m\u001b[1;33m.\u001b[0m\u001b[0m_forward_hooks\u001b[0m\u001b[1;33m.\u001b[0m\u001b[0mvalues\u001b[0m\u001b[1;33m(\u001b[0m\u001b[1;33m)\u001b[0m\u001b[1;33m:\u001b[0m\u001b[1;33m\u001b[0m\u001b[1;33m\u001b[0m\u001b[0m\n\u001b[0;32m    549\u001b[0m             \u001b[0mhook_result\u001b[0m \u001b[1;33m=\u001b[0m \u001b[0mhook\u001b[0m\u001b[1;33m(\u001b[0m\u001b[0mself\u001b[0m\u001b[1;33m,\u001b[0m \u001b[0minput\u001b[0m\u001b[1;33m,\u001b[0m \u001b[0mresult\u001b[0m\u001b[1;33m)\u001b[0m\u001b[1;33m\u001b[0m\u001b[1;33m\u001b[0m\u001b[0m\n",
      "\u001b[1;32m<ipython-input-37-5041089d8b87>\u001b[0m in \u001b[0;36mforward\u001b[1;34m(self, input_h_t, input_h_f, input_h_c)\u001b[0m\n\u001b[0;32m     24\u001b[0m         \u001b[0mh_t_z\u001b[0m \u001b[1;33m=\u001b[0m \u001b[0mVariable\u001b[0m\u001b[1;33m(\u001b[0m\u001b[0mtorch\u001b[0m\u001b[1;33m.\u001b[0m\u001b[0mzeros\u001b[0m\u001b[1;33m(\u001b[0m\u001b[0minput_h_t\u001b[0m\u001b[1;33m.\u001b[0m\u001b[0mshape\u001b[0m\u001b[1;33m)\u001b[0m\u001b[1;33m)\u001b[0m\u001b[1;33m\u001b[0m\u001b[1;33m\u001b[0m\u001b[0m\n\u001b[0;32m     25\u001b[0m \u001b[1;33m\u001b[0m\u001b[0m\n\u001b[1;32m---> 26\u001b[1;33m         \u001b[1;32mfor\u001b[0m \u001b[0mi\u001b[0m \u001b[1;32min\u001b[0m \u001b[0mrange\u001b[0m\u001b[1;33m(\u001b[0m\u001b[0mh_t_0\u001b[0m\u001b[1;33m.\u001b[0m\u001b[0mshape\u001b[0m\u001b[1;33m[\u001b[0m\u001b[1;36m2\u001b[0m\u001b[1;33m]\u001b[0m\u001b[1;33m)\u001b[0m\u001b[1;33m:\u001b[0m\u001b[1;33m\u001b[0m\u001b[1;33m\u001b[0m\u001b[0m\n\u001b[0m\u001b[0;32m     27\u001b[0m             \u001b[0mh_t_x_slice\u001b[0m\u001b[1;33m,\u001b[0m \u001b[0m_\u001b[0m \u001b[1;33m=\u001b[0m \u001b[0mself\u001b[0m\u001b[1;33m.\u001b[0m\u001b[0mt_delay_RNN_x\u001b[0m\u001b[1;33m(\u001b[0m\u001b[0mh_t_0\u001b[0m\u001b[1;33m[\u001b[0m\u001b[1;33m:\u001b[0m\u001b[1;33m,\u001b[0m \u001b[1;33m:\u001b[0m\u001b[1;33m,\u001b[0m \u001b[0mi\u001b[0m\u001b[1;33m,\u001b[0m \u001b[1;33m:\u001b[0m\u001b[1;33m]\u001b[0m\u001b[1;33m)\u001b[0m\u001b[1;33m\u001b[0m\u001b[1;33m\u001b[0m\u001b[0m\n\u001b[0;32m     28\u001b[0m             \u001b[0mh_t_x\u001b[0m\u001b[1;33m[\u001b[0m\u001b[1;33m:\u001b[0m\u001b[1;33m,\u001b[0m \u001b[1;33m:\u001b[0m\u001b[1;33m,\u001b[0m \u001b[0mi\u001b[0m\u001b[1;33m,\u001b[0m \u001b[1;33m:\u001b[0m\u001b[1;33m]\u001b[0m \u001b[1;33m=\u001b[0m \u001b[0mh_t_x_slice\u001b[0m\u001b[1;33m\u001b[0m\u001b[1;33m\u001b[0m\u001b[0m\n",
      "\u001b[1;31mNameError\u001b[0m: name 'h_t_0' is not defined"
     ]
    }
   ],
   "source": [
    "net(input_tensor)"
   ]
  }
 ],
 "metadata": {
  "kernelspec": {
   "display_name": "Python 3",
   "language": "python",
   "name": "python3"
  },
  "language_info": {
   "codemirror_mode": {
    "name": "ipython",
    "version": 3
   },
   "file_extension": ".py",
   "mimetype": "text/x-python",
   "name": "python",
   "nbconvert_exporter": "python",
   "pygments_lexer": "ipython3",
   "version": "3.7.4"
  }
 },
 "nbformat": 4,
 "nbformat_minor": 2
}
